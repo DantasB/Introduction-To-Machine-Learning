{
  "nbformat": 4,
  "nbformat_minor": 0,
  "metadata": {
    "colab": {
      "name": "Trabalho 2 EEL891.ipynb",
      "provenance": [],
      "collapsed_sections": [
        "4WHPAI65pSw-",
        "Gw7Nd_TnSxcE",
        "_1H3vx6xS3En",
        "_0k8XnPLaXd7",
        "HAH93FsHcPz4"
      ]
    },
    "kernelspec": {
      "name": "python3",
      "display_name": "Python 3"
    },
    "language_info": {
      "name": "python"
    }
  },
  "cells": [
    {
      "cell_type": "code",
      "metadata": {
        "id": "o9QL9ezhTcwt"
      },
      "source": [
        "import matplotlib.pyplot as plt\n",
        "import missingno\n",
        "import numpy as np \n",
        "import pandas as pd \n",
        "from scipy.spatial.distance import pdist,cdist\n",
        "import scipy.stats as stats\n",
        "import seaborn as sns\n",
        "from sklearn.experimental import enable_hist_gradient_boosting\n",
        "from sklearn.preprocessing import StandardScaler, PolynomialFeatures, RobustScaler, QuantileTransformer\n",
        "from sklearn.ensemble import RandomForestClassifier, GradientBoostingClassifier, AdaBoostClassifier\n",
        "from sklearn.linear_model import LinearRegression, LogisticRegression\n",
        "from sklearn.metrics import accuracy_score, classification_report, confusion_matrix, plot_confusion_matrix,f1_score, roc_auc_score,precision_score ,recall_score\n",
        "from sklearn.model_selection import train_test_split, cross_val_score, GridSearchCV, cross_validate\n",
        "from sklearn.multiclass import OneVsRestClassifier, OneVsOneClassifier\n",
        "from sklearn.naive_bayes import GaussianNB\n",
        "from sklearn.svm import SVC, LinearSVC\n",
        "from sklearn.tree import DecisionTreeClassifier\n",
        "from sklearn.preprocessing import LabelBinarizer, LabelEncoder\n",
        "from scipy.stats import pearsonr\n",
        "from sklearn.neighbors import KNeighborsRegressor\n",
        "from sklearn.ensemble import RandomForestRegressor, AdaBoostRegressor, HistGradientBoostingRegressor"
      ],
      "execution_count": null,
      "outputs": []
    },
    {
      "cell_type": "markdown",
      "metadata": {
        "id": "4WHPAI65pSw-"
      },
      "source": [
        "# Funções Auxiliares"
      ]
    },
    {
      "cell_type": "code",
      "metadata": {
        "id": "0gszaSOkpUZJ"
      },
      "source": [
        "def rmspe(y, y_resposta):\n",
        "    value = np.sqrt(np.mean(np.square(((y - y_resposta) / y)), axis=0))\n",
        "    return value"
      ],
      "execution_count": null,
      "outputs": []
    },
    {
      "cell_type": "code",
      "metadata": {
        "id": "ud7nwqP9pZMQ"
      },
      "source": [
        "def drop_outliers(avg, storage, number_of_elements):\n",
        "  index_list = []\n",
        "  for element in avg[-1*number_of_elements:]:\n",
        "    index_list.extend(storage[element])\n",
        "  return df.loc[~df.index.isin(index_list)]"
      ],
      "execution_count": null,
      "outputs": []
    },
    {
      "cell_type": "markdown",
      "metadata": {
        "id": "Gw7Nd_TnSxcE"
      },
      "source": [
        "# Carregamento do Dataset"
      ]
    },
    {
      "cell_type": "code",
      "metadata": {
        "colab": {
          "base_uri": "https://localhost:8080/"
        },
        "id": "BPopz0CRTiJR",
        "outputId": "8899a7d2-b999-4f59-e899-106c5ed389b8"
      },
      "source": [
        "!pip install -q kaggle\n",
        "!wget -O kaggle.json https://cdn.discordapp.com/attachments/539836343094870016/879014144483930142/kaggle.json\n",
        "!mkdir ~/.kaggle\n",
        "!cp kaggle.json ~/.kaggle/\n",
        "!chmod 600 ~/.kaggle/kaggle.json\n",
        "!kaggle competitions download -c eel891-202101-trabalho-2\n",
        "!unzip conjunto_de_treinamento.csv.zip "
      ],
      "execution_count": null,
      "outputs": [
        {
          "output_type": "stream",
          "text": [
            "--2021-08-23 23:57:00--  https://cdn.discordapp.com/attachments/539836343094870016/879014144483930142/kaggle.json\n",
            "Resolving cdn.discordapp.com (cdn.discordapp.com)... 162.159.130.233, 162.159.135.233, 162.159.133.233, ...\n",
            "Connecting to cdn.discordapp.com (cdn.discordapp.com)|162.159.130.233|:443... connected.\n",
            "HTTP request sent, awaiting response... 200 OK\n",
            "Length: 63 [application/json]\n",
            "Saving to: ‘kaggle.json’\n",
            "\n",
            "kaggle.json         100%[===================>]      63  --.-KB/s    in 0s      \n",
            "\n",
            "2021-08-23 23:57:00 (24.6 MB/s) - ‘kaggle.json’ saved [63/63]\n",
            "\n",
            "Warning: Looks like you're using an outdated API Version, please consider updating (server 1.5.12 / client 1.5.4)\n",
            "Downloading exemplo_arquivo_respostas.csv to /content\n",
            "  0% 0.00/30.2k [00:00<?, ?B/s]\n",
            "100% 30.2k/30.2k [00:00<00:00, 41.9MB/s]\n",
            "Downloading conjunto_de_teste.csv to /content\n",
            "  0% 0.00/177k [00:00<?, ?B/s]\n",
            "100% 177k/177k [00:00<00:00, 56.1MB/s]\n",
            "Downloading conjunto_de_treinamento.csv to /content\n",
            "  0% 0.00/457k [00:00<?, ?B/s]\n",
            "100% 457k/457k [00:00<00:00, 63.7MB/s]\n",
            "unzip:  cannot find or open conjunto_de_treinamento.csv.zip, conjunto_de_treinamento.csv.zip.zip or conjunto_de_treinamento.csv.zip.ZIP.\n"
          ],
          "name": "stdout"
        }
      ]
    },
    {
      "cell_type": "code",
      "metadata": {
        "id": "xgR-1TteTeBF"
      },
      "source": [
        "df = pd.read_csv(\"conjunto_de_treinamento.csv\")\n",
        "df_teste = pd.read_csv(\"conjunto_de_teste.csv\")"
      ],
      "execution_count": null,
      "outputs": []
    },
    {
      "cell_type": "markdown",
      "metadata": {
        "id": "_1H3vx6xS3En"
      },
      "source": [
        "# Informações do dataset"
      ]
    },
    {
      "cell_type": "markdown",
      "metadata": {
        "id": "eM55nm0GS8FE"
      },
      "source": [
        "## Identificação de valores nulos"
      ]
    },
    {
      "cell_type": "markdown",
      "metadata": {
        "id": "tqKw067IWuLq"
      },
      "source": [
        "Com a criação dessa visualização abaixo, foi possível perceber que os dados de treino não possuem valores nulos."
      ]
    },
    {
      "cell_type": "code",
      "metadata": {
        "colab": {
          "base_uri": "https://localhost:8080/"
        },
        "id": "xQbbR26WTJMb",
        "outputId": "bd607de2-4c32-458c-9e97-cb394d1363cd"
      },
      "source": [
        "missingno.matrix(df, labels=True, figsize=(30,10))"
      ],
      "execution_count": null,
      "outputs": [
        {
          "output_type": "execute_result",
          "data": {
            "text/plain": [
              "<matplotlib.axes._subplots.AxesSubplot at 0x7f75b17ef9d0>"
            ]
          },
          "metadata": {},
          "execution_count": 27
        },
        {
          "output_type": "display_data",
          "data": {
            "image/png": "[encoded data removed]",
            "text/plain": [
              "<Figure size 2160x720 with 2 Axes>"
            ]
          },
          "metadata": {
            "needs_background": "light"
          }
        }
      ]
    },
    {
      "cell_type": "markdown",
      "metadata": {
        "id": "GdOPenFCS5Ef"
      },
      "source": [
        "## Tipo das colunas"
      ]
    },
    {
      "cell_type": "markdown",
      "metadata": {
        "id": "E-b2uN_PXBpf"
      },
      "source": [
        "Utilizando o .dtypes, é possível observar todos os tipos de dados das colunas, e podemos ver que tem alguns tipos que não são numéricos."
      ]
    },
    {
      "cell_type": "code",
      "metadata": {
        "colab": {
          "base_uri": "https://localhost:8080/"
        },
        "id": "ZxyLFIFJS_WL",
        "outputId": "b3993d40-e50b-4e5c-e24d-ef634e40c18d"
      },
      "source": [
        "df.dtypes"
      ],
      "execution_count": null,
      "outputs": [
        {
          "output_type": "execute_result",
          "data": {
            "text/plain": [
              "Id                  int64\n",
              "tipo               object\n",
              "bairro             object\n",
              "tipo_vendedor      object\n",
              "quartos             int64\n",
              "suites              int64\n",
              "vagas               int64\n",
              "area_util           int64\n",
              "area_extra          int64\n",
              "diferenciais       object\n",
              "churrasqueira       int64\n",
              "estacionamento      int64\n",
              "piscina             int64\n",
              "playground          int64\n",
              "quadra              int64\n",
              "s_festas            int64\n",
              "s_jogos             int64\n",
              "s_ginastica         int64\n",
              "sauna               int64\n",
              "vista_mar           int64\n",
              "preco             float64\n",
              "dtype: object"
            ]
          },
          "metadata": {},
          "execution_count": 28
        }
      ]
    },
    {
      "cell_type": "markdown",
      "metadata": {
        "id": "omaF2Id2ZwX_"
      },
      "source": [
        "### Colunas do tipo object e seus valores"
      ]
    },
    {
      "cell_type": "markdown",
      "metadata": {
        "id": "n4sidZ0wZ5es"
      },
      "source": [
        "Observando melhor algumas variáveis abaixo, é possível perceber que algumas delas podemos utilizar mecanismos de encoding como One-hot-encoding e LabelBinarizer"
      ]
    },
    {
      "cell_type": "code",
      "metadata": {
        "colab": {
          "base_uri": "https://localhost:8080/"
        },
        "id": "ahYPDJ5GZMIR",
        "outputId": "ab0a8bed-1c68-483b-bc77-fa4f9ec7350a"
      },
      "source": [
        "print(\"\\n'tipo':\\n\", df['tipo'].value_counts())\n",
        "print(\"\\n'tipo' - Conjunto teste:\\n\", df_teste['tipo'].value_counts())\n",
        "\n",
        "print(\"\\n'tipo_vendedor':\\n\", df['tipo_vendedor'].value_counts())\n",
        "print(\"\\n'tipo_vendedor'- Conjunto teste:\\n\", df_teste['tipo_vendedor'].value_counts())\n",
        "\n",
        "print(\"\\n'bairro':\\n\", df['bairro'].value_counts())\n",
        "print(\"\\n'bairro'- Conjunto teste:\\n\", df_teste['bairro'].value_counts())\n",
        "\n",
        "print(\"\\n'diferenciais':\\n\", df['diferenciais'].value_counts())\n",
        "print(\"\\n'diferenciais'- Conjunto teste:\\n\", df_teste['diferenciais'].value_counts())"
      ],
      "execution_count": null,
      "outputs": [
        {
          "output_type": "stream",
          "text": [
            "\n",
            "'tipo':\n",
            " Apartamento    4501\n",
            "Casa            177\n",
            "Loft              3\n",
            "Quitinete         2\n",
            "Name: tipo, dtype: int64\n",
            "\n",
            "'tipo' - Conjunto teste:\n",
            " Apartamento    1924\n",
            "Casa             75\n",
            "Loft              1\n",
            "Name: tipo, dtype: int64\n",
            "\n",
            "'tipo_vendedor':\n",
            " Imobiliaria      4556\n",
            "Pessoa Fisica     127\n",
            "Name: tipo_vendedor, dtype: int64\n",
            "\n",
            "'tipo_vendedor'- Conjunto teste:\n",
            " Imobiliaria      1958\n",
            "Pessoa Fisica      42\n",
            "Name: tipo_vendedor, dtype: int64\n",
            "\n",
            "'bairro':\n",
            " Boa Viagem      1599\n",
            "Madalena         327\n",
            "Torre            240\n",
            "Casa Amarela     225\n",
            "Espinheiro       208\n",
            "                ... \n",
            "Centro             1\n",
            "Cohab              1\n",
            "Zumbi              1\n",
            "Sto Antonio        1\n",
            "Coelhos            1\n",
            "Name: bairro, Length: 66, dtype: int64\n",
            "\n",
            "'bairro'- Conjunto teste:\n",
            " Boa Viagem           704\n",
            "Madalena             145\n",
            "Casa Amarela          97\n",
            "Rosarinho             85\n",
            "Casa Forte            81\n",
            "Torre                 80\n",
            "Espinheiro            75\n",
            "Gracas                73\n",
            "Parnamirim            57\n",
            "Encruzilhada          54\n",
            "Pina                  44\n",
            "Aflitos               38\n",
            "Boa Vista             35\n",
            "Iputinga              35\n",
            "Jaqueira              34\n",
            "Tamarineira           33\n",
            "Cordeiro              31\n",
            "Setubal               31\n",
            "Imbiribeira           28\n",
            "Apipucos              26\n",
            "Poco da Panela        22\n",
            "Campo Grande          20\n",
            "Torreao               17\n",
            "Sto Amaro             17\n",
            "Varzea                16\n",
            "Ilha do Retiro        14\n",
            "Derby                 14\n",
            "Monteiro              11\n",
            "Prado                 11\n",
            "Caxanga               10\n",
            "Cid Universitaria      8\n",
            "Engenho do Meio        8\n",
            "S Jose                 6\n",
            "Recife                 3\n",
            "Afogados               3\n",
            "Arruda                 3\n",
            "Beira Rio              3\n",
            "Ibura                  2\n",
            "Jd S Paulo             2\n",
            "San Martin             2\n",
            "Santana                2\n",
            "Cajueiro               2\n",
            "Hipodromo              2\n",
            "Agua Fria              2\n",
            "Ipsep                  2\n",
            "Tejipio                2\n",
            "Coelhos                1\n",
            "Bongi                  1\n",
            "Paissandu              1\n",
            "Ilha do Leite          1\n",
            "Guabiraba              1\n",
            "Dois Irmaos            1\n",
            "Sancho                 1\n",
            "Fundao                 1\n",
            "Beberibe               1\n",
            "Piedade                1\n",
            "Name: bairro, dtype: int64\n",
            "\n",
            "'diferenciais':\n",
            " piscina e churrasqueira               1340\n",
            "nenhum                                 986\n",
            "piscina e sauna                        350\n",
            "piscina e playground                   338\n",
            "salao de festas                        187\n",
            "                                      ... \n",
            "esquina e quadra poliesportiva           1\n",
            "copa e sala de ginastica                 1\n",
            "sala de ginastica e salao de jogos       1\n",
            "sauna                                    1\n",
            "vestiario                                1\n",
            "Name: diferenciais, Length: 83, dtype: int64\n",
            "\n",
            "'diferenciais'- Conjunto teste:\n",
            " piscina e churrasqueira                560\n",
            "nenhum                                 382\n",
            "piscina e sauna                        149\n",
            "piscina e playground                   139\n",
            "playground e salao de festas            77\n",
            "                                      ... \n",
            "sala de ginastica                        1\n",
            "esquina e estacionamento visitantes      1\n",
            "churrasqueira e children care            1\n",
            "sauna e quadra poliesportiva             1\n",
            "campo de futebol e salao de festas       1\n",
            "Name: diferenciais, Length: 74, dtype: int64\n"
          ],
          "name": "stdout"
        }
      ]
    },
    {
      "cell_type": "markdown",
      "metadata": {
        "id": "JszDquPlTN0q"
      },
      "source": [
        "## Descrição dos dados (Média, Contagem, Mínimo, Máximo)"
      ]
    },
    {
      "cell_type": "markdown",
      "metadata": {
        "id": "W4dZES_FXZTg"
      },
      "source": [
        "Com essa visualização, além de ter mais informações sobre os tipos de dados e seus valores."
      ]
    },
    {
      "cell_type": "code",
      "metadata": {
        "colab": {
          "base_uri": "https://localhost:8080/"
        },
        "id": "LB4sO35XS0CO",
        "outputId": "fa9e29ec-94b3-4fef-a7f1-faa4fc15d952"
      },
      "source": [
        "df.describe().T"
      ],
      "execution_count": null,
      "outputs": [
        {
          "output_type": "execute_result",
          "data": {
            "text/html": [
              "<div>\n",
              "<style scoped>\n",
              "    .dataframe tbody tr th:only-of-type {\n",
              "        vertical-align: middle;\n",
              "    }\n",
              "\n",
              "    .dataframe tbody tr th {\n",
              "        vertical-align: top;\n",
              "    }\n",
              "\n",
              "    .dataframe thead th {\n",
              "        text-align: right;\n",
              "    }\n",
              "</style>\n",
              "<table border=\"1\" class=\"dataframe\">\n",
              "  <thead>\n",
              "    <tr style=\"text-align: right;\">\n",
              "      <th></th>\n",
              "      <th>count</th>\n",
              "      <th>mean</th>\n",
              "      <th>std</th>\n",
              "      <th>min</th>\n",
              "      <th>25%</th>\n",
              "      <th>50%</th>\n",
              "      <th>75%</th>\n",
              "      <th>max</th>\n",
              "    </tr>\n",
              "  </thead>\n",
              "  <tbody>\n",
              "    <tr>\n",
              "      <th>Id</th>\n",
              "      <td>4683.0</td>\n",
              "      <td>4341.000000</td>\n",
              "      <td>1.352010e+03</td>\n",
              "      <td>2000.0</td>\n",
              "      <td>3170.5</td>\n",
              "      <td>4341.0</td>\n",
              "      <td>5511.5</td>\n",
              "      <td>6682.0</td>\n",
              "    </tr>\n",
              "    <tr>\n",
              "      <th>quartos</th>\n",
              "      <td>4683.0</td>\n",
              "      <td>3.043562</td>\n",
              "      <td>8.735901e-01</td>\n",
              "      <td>1.0</td>\n",
              "      <td>3.0</td>\n",
              "      <td>3.0</td>\n",
              "      <td>4.0</td>\n",
              "      <td>9.0</td>\n",
              "    </tr>\n",
              "    <tr>\n",
              "      <th>suites</th>\n",
              "      <td>4683.0</td>\n",
              "      <td>1.434337</td>\n",
              "      <td>1.102457e+00</td>\n",
              "      <td>0.0</td>\n",
              "      <td>1.0</td>\n",
              "      <td>1.0</td>\n",
              "      <td>2.0</td>\n",
              "      <td>6.0</td>\n",
              "    </tr>\n",
              "    <tr>\n",
              "      <th>vagas</th>\n",
              "      <td>4683.0</td>\n",
              "      <td>1.708093</td>\n",
              "      <td>1.210975e+00</td>\n",
              "      <td>0.0</td>\n",
              "      <td>1.0</td>\n",
              "      <td>2.0</td>\n",
              "      <td>2.0</td>\n",
              "      <td>30.0</td>\n",
              "    </tr>\n",
              "    <tr>\n",
              "      <th>area_util</th>\n",
              "      <td>4683.0</td>\n",
              "      <td>124.158018</td>\n",
              "      <td>1.073651e+02</td>\n",
              "      <td>21.0</td>\n",
              "      <td>68.0</td>\n",
              "      <td>96.0</td>\n",
              "      <td>149.0</td>\n",
              "      <td>2045.0</td>\n",
              "    </tr>\n",
              "    <tr>\n",
              "      <th>area_extra</th>\n",
              "      <td>4683.0</td>\n",
              "      <td>13.293188</td>\n",
              "      <td>2.668038e+02</td>\n",
              "      <td>0.0</td>\n",
              "      <td>0.0</td>\n",
              "      <td>0.0</td>\n",
              "      <td>0.0</td>\n",
              "      <td>17450.0</td>\n",
              "    </tr>\n",
              "    <tr>\n",
              "      <th>churrasqueira</th>\n",
              "      <td>4683.0</td>\n",
              "      <td>0.316891</td>\n",
              "      <td>4.653142e-01</td>\n",
              "      <td>0.0</td>\n",
              "      <td>0.0</td>\n",
              "      <td>0.0</td>\n",
              "      <td>1.0</td>\n",
              "      <td>1.0</td>\n",
              "    </tr>\n",
              "    <tr>\n",
              "      <th>estacionamento</th>\n",
              "      <td>4683.0</td>\n",
              "      <td>0.030750</td>\n",
              "      <td>1.726567e-01</td>\n",
              "      <td>0.0</td>\n",
              "      <td>0.0</td>\n",
              "      <td>0.0</td>\n",
              "      <td>0.0</td>\n",
              "      <td>1.0</td>\n",
              "    </tr>\n",
              "    <tr>\n",
              "      <th>piscina</th>\n",
              "      <td>4683.0</td>\n",
              "      <td>0.555627</td>\n",
              "      <td>4.969491e-01</td>\n",
              "      <td>0.0</td>\n",
              "      <td>0.0</td>\n",
              "      <td>1.0</td>\n",
              "      <td>1.0</td>\n",
              "      <td>1.0</td>\n",
              "    </tr>\n",
              "    <tr>\n",
              "      <th>playground</th>\n",
              "      <td>4683.0</td>\n",
              "      <td>0.157378</td>\n",
              "      <td>3.641954e-01</td>\n",
              "      <td>0.0</td>\n",
              "      <td>0.0</td>\n",
              "      <td>0.0</td>\n",
              "      <td>0.0</td>\n",
              "      <td>1.0</td>\n",
              "    </tr>\n",
              "    <tr>\n",
              "      <th>quadra</th>\n",
              "      <td>4683.0</td>\n",
              "      <td>0.039078</td>\n",
              "      <td>1.938001e-01</td>\n",
              "      <td>0.0</td>\n",
              "      <td>0.0</td>\n",
              "      <td>0.0</td>\n",
              "      <td>0.0</td>\n",
              "      <td>1.0</td>\n",
              "    </tr>\n",
              "    <tr>\n",
              "      <th>s_festas</th>\n",
              "      <td>4683.0</td>\n",
              "      <td>0.138159</td>\n",
              "      <td>3.451040e-01</td>\n",
              "      <td>0.0</td>\n",
              "      <td>0.0</td>\n",
              "      <td>0.0</td>\n",
              "      <td>0.0</td>\n",
              "      <td>1.0</td>\n",
              "    </tr>\n",
              "    <tr>\n",
              "      <th>s_jogos</th>\n",
              "      <td>4683.0</td>\n",
              "      <td>0.006833</td>\n",
              "      <td>8.238922e-02</td>\n",
              "      <td>0.0</td>\n",
              "      <td>0.0</td>\n",
              "      <td>0.0</td>\n",
              "      <td>0.0</td>\n",
              "      <td>1.0</td>\n",
              "    </tr>\n",
              "    <tr>\n",
              "      <th>s_ginastica</th>\n",
              "      <td>4683.0</td>\n",
              "      <td>0.013666</td>\n",
              "      <td>1.161144e-01</td>\n",
              "      <td>0.0</td>\n",
              "      <td>0.0</td>\n",
              "      <td>0.0</td>\n",
              "      <td>0.0</td>\n",
              "      <td>1.0</td>\n",
              "    </tr>\n",
              "    <tr>\n",
              "      <th>sauna</th>\n",
              "      <td>4683.0</td>\n",
              "      <td>0.096306</td>\n",
              "      <td>2.950416e-01</td>\n",
              "      <td>0.0</td>\n",
              "      <td>0.0</td>\n",
              "      <td>0.0</td>\n",
              "      <td>0.0</td>\n",
              "      <td>1.0</td>\n",
              "    </tr>\n",
              "    <tr>\n",
              "      <th>vista_mar</th>\n",
              "      <td>4683.0</td>\n",
              "      <td>0.027333</td>\n",
              "      <td>1.630690e-01</td>\n",
              "      <td>0.0</td>\n",
              "      <td>0.0</td>\n",
              "      <td>0.0</td>\n",
              "      <td>0.0</td>\n",
              "      <td>1.0</td>\n",
              "    </tr>\n",
              "    <tr>\n",
              "      <th>preco</th>\n",
              "      <td>4683.0</td>\n",
              "      <td>927705.305174</td>\n",
              "      <td>1.050607e+07</td>\n",
              "      <td>750.0</td>\n",
              "      <td>355000.0</td>\n",
              "      <td>515000.0</td>\n",
              "      <td>830000.0</td>\n",
              "      <td>630000000.0</td>\n",
              "    </tr>\n",
              "  </tbody>\n",
              "</table>\n",
              "</div>"
            ],
            "text/plain": [
              "                 count           mean  ...       75%          max\n",
              "Id              4683.0    4341.000000  ...    5511.5       6682.0\n",
              "quartos         4683.0       3.043562  ...       4.0          9.0\n",
              "suites          4683.0       1.434337  ...       2.0          6.0\n",
              "vagas           4683.0       1.708093  ...       2.0         30.0\n",
              "area_util       4683.0     124.158018  ...     149.0       2045.0\n",
              "area_extra      4683.0      13.293188  ...       0.0      17450.0\n",
              "churrasqueira   4683.0       0.316891  ...       1.0          1.0\n",
              "estacionamento  4683.0       0.030750  ...       0.0          1.0\n",
              "piscina         4683.0       0.555627  ...       1.0          1.0\n",
              "playground      4683.0       0.157378  ...       0.0          1.0\n",
              "quadra          4683.0       0.039078  ...       0.0          1.0\n",
              "s_festas        4683.0       0.138159  ...       0.0          1.0\n",
              "s_jogos         4683.0       0.006833  ...       0.0          1.0\n",
              "s_ginastica     4683.0       0.013666  ...       0.0          1.0\n",
              "sauna           4683.0       0.096306  ...       0.0          1.0\n",
              "vista_mar       4683.0       0.027333  ...       0.0          1.0\n",
              "preco           4683.0  927705.305174  ...  830000.0  630000000.0\n",
              "\n",
              "[17 rows x 8 columns]"
            ]
          },
          "metadata": {},
          "execution_count": 30
        }
      ]
    },
    {
      "cell_type": "markdown",
      "metadata": {
        "id": "9nabJwRcaSIR"
      },
      "source": [
        "# Tratamento do dataset"
      ]
    },
    {
      "cell_type": "markdown",
      "metadata": {
        "id": "_0k8XnPLaXd7"
      },
      "source": [
        "## Encoding de colunas"
      ]
    },
    {
      "cell_type": "code",
      "metadata": {
        "colab": {
          "base_uri": "https://localhost:8080/"
        },
        "id": "LZ-Ib4OWaWMF",
        "outputId": "da028e97-3772-48a9-a825-7cf2c15e87f4"
      },
      "source": [
        "# Aplicando binarização na variavel \"tipo_vendedor\"\n",
        "binarizador = LabelBinarizer()\n",
        "\n",
        "for t in ['tipo_vendedor']:\n",
        "    df[t] = binarizador.fit_transform(df[t])\n",
        "    df_teste[t] = binarizador.fit_transform(df_teste[t])\n",
        "    \n",
        "print(\"\\n'tipo_vendedor':\\n\", df['tipo_vendedor'].value_counts())"
      ],
      "execution_count": null,
      "outputs": [
        {
          "output_type": "stream",
          "text": [
            "\n",
            "'tipo_vendedor':\n",
            " 0    4556\n",
            "1     127\n",
            "Name: tipo_vendedor, dtype: int64\n"
          ],
          "name": "stdout"
        }
      ]
    },
    {
      "cell_type": "markdown",
      "metadata": {
        "id": "TiBKzvzIb3wX"
      },
      "source": [
        "Ao observar melhor também é possível perceber que os dados de teste e treino possuem uma pequena quantidade de valores para o tipo quitinete e tipo loft, deste modo, para melhorar o resultado, foi optado por remover essas ocorrências."
      ]
    },
    {
      "cell_type": "code",
      "metadata": {
        "id": "_MD-_rhZamLz"
      },
      "source": [
        "# Codificando o tipo do imovel com one-hot-encoding\n",
        "df = pd.get_dummies(df, columns=['tipo'])\n",
        "df = df[df['tipo_Quitinete']==0]\n",
        "df = df[df['tipo_Loft']==0]\n",
        "\n",
        "df_teste = pd.get_dummies(df_teste, columns=['tipo'])\n",
        "\n",
        "# Excluindo as colunas 'tipo_Loft' do conjunto de treino e teste\n",
        "df_teste = df_teste.drop(['tipo_Loft'], axis=1)\n",
        "df = df.drop(['tipo_Loft'], axis=1)\n",
        "\n",
        "# Excluindo a coluna 'tipo_Quitinete'\n",
        "df = df.drop(['tipo_Quitinete'], axis=1)"
      ],
      "execution_count": null,
      "outputs": []
    },
    {
      "cell_type": "markdown",
      "metadata": {
        "id": "FhpI6V5tc58e"
      },
      "source": [
        "Além disso, foi aplicado um LabelEncoder para o campo bairro, para manter esse valor como o tipo float"
      ]
    },
    {
      "cell_type": "code",
      "metadata": {
        "id": "JzUfVkEbc5Vn"
      },
      "source": [
        "df['bairro'] = LabelEncoder().fit_transform(df['bairro'])\n",
        "df_teste['bairro'] = LabelEncoder().fit_transform(df_teste['bairro'])\n",
        "\n",
        "# Normalização dos dados\n",
        "df['bairro'] = (df['bairro'] - df['bairro'].mean()) / df_teste['bairro'].std()\n",
        "df_teste['bairro'] = (df['bairro'] - df['bairro'].mean()) / df_teste['bairro'].std()"
      ],
      "execution_count": null,
      "outputs": []
    },
    {
      "cell_type": "markdown",
      "metadata": {
        "id": "8W986lHzeVxK"
      },
      "source": [
        "Ademais, foi notado que a coluna diferenciais é na verdade uma combinação das colunas de churrasqueira, playground, quadra e etc. Portanto, foi optado por remover essa coluna, tendo em vista que esses dados já estarão inclusos em outras colunas e de uma forma binarizada."
      ]
    },
    {
      "cell_type": "code",
      "metadata": {
        "id": "hGc-gh4Uepl9"
      },
      "source": [
        "df = df.drop(['diferenciais'], axis=1)\n",
        "df_teste = df_teste.drop(['diferenciais'], axis=1)"
      ],
      "execution_count": null,
      "outputs": []
    },
    {
      "cell_type": "markdown",
      "metadata": {
        "id": "HAH93FsHcPz4"
      },
      "source": [
        "## Verificação de Outliers"
      ]
    },
    {
      "cell_type": "markdown",
      "metadata": {
        "id": "1AjgLbFAkWud"
      },
      "source": [
        "Ao observar o gráfico da distância euclidiana é possível observar que existe uma pequena quantidade de outliers. \"Dando um zoom\" no gráfico é possível encontrar que são basicamente 10 valores dentre os valores do dataframe. Portanto foi optado por removê-los cerca de 2% final do dataframe."
      ]
    },
    {
      "cell_type": "code",
      "metadata": {
        "colab": {
          "base_uri": "https://localhost:8080/",
          "height": 894
        },
        "id": "Z5U6hVSIcTcR",
        "outputId": "cb346a7f-5a73-4333-93eb-df61ee3372fb"
      },
      "source": [
        "x = pdist(df.values, 'euclid')\n",
        "values_number = len(df.values)\n",
        "columns_number = len(df.columns)\n",
        "avg = []\n",
        "storage = {}\n",
        "\n",
        "for i in range(values_number):\n",
        "  sum = 0\n",
        "  for j in range(i):\n",
        "    sum += x[values_number * j + i - ((j + 2) * (j + 1)) // 2]\n",
        "  for j in range(i + 1, values_number):\n",
        "    sum += x[values_number * i + j - ((i + 2) * (i + 1)) // 2]\n",
        "  result = sum/columns_number\n",
        "  avg.append(result)\n",
        "\n",
        "  if result not in storage:\n",
        "    storage[result] = [i]\n",
        "  else:\n",
        "    storage[result].append(i)\n",
        "\n",
        "\n",
        "plt.figure()\n",
        "fig, axs = plt.subplots(2, 1, figsize=(25, 25))\n",
        "fig.subplots_adjust(left=0.08, right=0.98, bottom=0.05, top=0.9,\n",
        "                    hspace=0.4, wspace=0.3)\n",
        "avg.sort()\n",
        "\n",
        "axs[0].plot(avg)\n",
        "axs[0].set_title('Média da Distância Euclidiana')\n",
        "\n",
        "axs[1].plot(avg[4500:])\n",
        "axs[1].set_title('Média da Distância Euclidiana')"
      ],
      "execution_count": null,
      "outputs": [
        {
          "output_type": "execute_result",
          "data": {
            "text/plain": [
              "Text(0.5, 1.0, 'Média da Distância Euclidiana')"
            ]
          },
          "metadata": {},
          "execution_count": 35
        },
        {
          "output_type": "display_data",
          "data": {
            "text/plain": [
              "<Figure size 432x288 with 0 Axes>"
            ]
          },
          "metadata": {}
        },
        {
          "output_type": "display_data",
          "data": {
            "image/png": "[encoded data removed]",
            "text/plain": [
              "<Figure size 1800x1800 with 2 Axes>"
            ]
          },
          "metadata": {
            "needs_background": "light"
          }
        }
      ]
    },
    {
      "cell_type": "code",
      "metadata": {
        "id": "_Sw5mS5okm5C"
      },
      "source": [
        "df = drop_outliers(avg, storage, 48*2)"
      ],
      "execution_count": null,
      "outputs": []
    },
    {
      "cell_type": "markdown",
      "metadata": {
        "id": "jJnTLHrVmt9o"
      },
      "source": [
        "## Coeficiente de Pearson"
      ]
    },
    {
      "cell_type": "code",
      "metadata": {
        "colab": {
          "base_uri": "https://localhost:8080/"
        },
        "id": "8bo1xrsznAtn",
        "outputId": "44196fc7-9d5b-4766-c307-43b7b1a86391"
      },
      "source": [
        "print('\\n           Coluna   Coef. Pears.   Confianca')\n",
        "print('  ----------------   ------------   ---------')\n",
        "\n",
        "for col in df.columns:\n",
        "    print( ' %16s   %12.4f   %9.4f' % (col, \n",
        "                                       pearsonr(df[col],df['preco'])[0], \n",
        "                                       pearsonr(df[col],df['preco'])[1]))"
      ],
      "execution_count": null,
      "outputs": [
        {
          "output_type": "stream",
          "text": [
            "\n",
            "           Coluna   Coef. Pears.   Confianca\n",
            "  ----------------   ------------   ---------\n",
            "               Id         0.0200      0.1767\n",
            "           bairro         0.0074      0.6172\n",
            "    tipo_vendedor         0.1006      0.0000\n",
            "          quartos         0.0422      0.0043\n",
            "           suites         0.0706      0.0000\n",
            "            vagas         0.0507      0.0006\n",
            "        area_util         0.0605      0.0000\n",
            "       area_extra         0.0037      0.8040\n",
            "    churrasqueira        -0.0066      0.6531\n",
            "   estacionamento        -0.0084      0.5677\n",
            "          piscina        -0.0104      0.4817\n",
            "       playground        -0.0135      0.3592\n",
            "           quadra        -0.0045      0.7614\n",
            "         s_festas         0.0270      0.0677\n",
            "          s_jogos        -0.0029      0.8439\n",
            "      s_ginastica        -0.0015      0.9176\n",
            "            sauna         0.0113      0.4430\n",
            "        vista_mar         0.0186      0.2091\n",
            "            preco         1.0000      0.0000\n",
            " tipo_Apartamento        -0.0239      0.1054\n",
            "        tipo_Casa         0.0239      0.1054\n"
          ],
          "name": "stdout"
        }
      ]
    },
    {
      "cell_type": "markdown",
      "metadata": {
        "id": "jjM7vHGgnbwf"
      },
      "source": [
        "Tendo executado o coeficiente de pearson para verificar quais são as colunas que mais se relacionam com a variável alvo, foi possível definir quais seriam as colunas que iriam ser removidas do df a fim de obter um resultado mais acurado."
      ]
    },
    {
      "cell_type": "code",
      "metadata": {
        "id": "dr-eV1ugnlyQ"
      },
      "source": [
        "df = df.drop(['Id', 'tipo_vendedor', 'churrasqueira', 'quadra', 's_jogos', 's_ginastica', 'area_extra'], axis=1)\n",
        "df_teste = df_teste.drop(['Id', 'tipo_vendedor', 'churrasqueira', 'quadra', 's_jogos', 's_ginastica', 'area_extra'], axis=1)"
      ],
      "execution_count": null,
      "outputs": []
    },
    {
      "cell_type": "markdown",
      "metadata": {
        "id": "IBoNMnJWoVkg"
      },
      "source": [
        "# Análise"
      ]
    },
    {
      "cell_type": "markdown",
      "metadata": {
        "id": "W4vFfmJVpvfx"
      },
      "source": [
        "## Dataset de treino e teste"
      ]
    },
    {
      "cell_type": "markdown",
      "metadata": {
        "id": "3v9I9ittobVq"
      },
      "source": [
        "Tendo feito todo o tratamento considerado necessário para o dataset, foi separado x e y em conjunto de treino e teste dentro do df de treino para poder realizar o cálculo da precisão do modelo"
      ]
    },
    {
      "cell_type": "code",
      "metadata": {
        "id": "-eUQxyEOoaVZ"
      },
      "source": [
        "x = df.drop(['preco'], axis=1).to_numpy()\n",
        "y = df['preco'].to_numpy()\n",
        "\n",
        "x_TESTE = df_teste.iloc[:,:].to_numpy()\n",
        "\n",
        "# Esse dataframe com id será utilizado para a resposta final\n",
        "y_TESTE_Id = df_teste.iloc[:,0]"
      ],
      "execution_count": null,
      "outputs": []
    },
    {
      "cell_type": "code",
      "metadata": {
        "id": "uq2ozSzgo38c"
      },
      "source": [
        "x_treino, x_teste, y_treino, y_teste = train_test_split(x, y, test_size=0.2, random_state=100)"
      ],
      "execution_count": null,
      "outputs": []
    },
    {
      "cell_type": "markdown",
      "metadata": {
        "id": "IUED8E2WpycH"
      },
      "source": [
        "## Gradient Boosting"
      ]
    },
    {
      "cell_type": "markdown",
      "metadata": {
        "id": "HqmlwD6dqnoz"
      },
      "source": [
        "Para o gradient boosting o valor do modelo RMSPE obtido foi de 0.2339 no conjunto de teste"
      ]
    },
    {
      "cell_type": "markdown",
      "metadata": {
        "id": "eKrn5aTnssoX"
      },
      "source": [
        "Para verificar qual era o melhor hyperparâmetro, foi alterado o l2_regularization e o max_iter para verificar quais seriam os melhores valores e quais os hyperparâmetros utilizados. Além disso, foi alterado o método de cálculo de loss para verificar se havia alguma interferência no código e o max_depth para verificar se a profundidade de cada folha influenciava no resultado."
      ]
    },
    {
      "cell_type": "code",
      "metadata": {
        "id": "gDoi_H5Psz8F"
      },
      "source": [
        "results = []\n",
        "for i in range(2, 36, 2):  \n",
        "  for j in range(10, 150, 10):  \n",
        "    for k in ['least_absolute_deviation', 'least_squares']:\n",
        "      for l in range(2, 14, 2):\n",
        "        rgsGB = HistGradientBoostingRegressor(l2_regularization=i, max_iter=j, loss=k, max_depth=l)\n",
        "\n",
        "        rgsGB = rgsGB.fit(x_treino, y_treino)\n",
        "\n",
        "        y_resposta_treino = rgsGB.predict(x_treino)\n",
        "        y_resposta_teste = rgsGB.predict(x_teste)\n",
        "\n",
        "        rmspe_in = rmspe(y_treino, y_resposta_treino)\n",
        "        rmspe_out = rmspe(y_teste, y_resposta_teste)\n",
        "        results.append((l, k, j, i, rmspe_in, rmspe_out))"
      ],
      "execution_count": null,
      "outputs": []
    },
    {
      "cell_type": "code",
      "metadata": {
        "colab": {
          "base_uri": "https://localhost:8080/"
        },
        "id": "8Y2CXSdeJYd5",
        "outputId": "aa66d4c4-6ba8-4341-c759-d033db216a44"
      },
      "source": [
        "best_choose = sorted(results, key=lambda i: i[-1], reverse=True)\n",
        "print (best_choose[-1])"
      ],
      "execution_count": null,
      "outputs": [
        {
          "output_type": "stream",
          "text": [
            "(12, 'least_absolute_deviation', 140, 34, 4.812977682763856, 0.23398788949897614)\n"
          ],
          "name": "stdout"
        }
      ]
    },
    {
      "cell_type": "markdown",
      "metadata": {
        "id": "th34QuLLtGqk"
      },
      "source": [
        "Definindo o melhor max_iter, pudemos então obter o valor do rmspe para o Gradient Boosting"
      ]
    },
    {
      "cell_type": "code",
      "metadata": {
        "colab": {
          "base_uri": "https://localhost:8080/"
        },
        "id": "UJkHNHJdtBF1",
        "outputId": "cd37c5a6-1834-4832-ebcc-31c8167e1cfe"
      },
      "source": [
        "  rgsGB = HistGradientBoostingRegressor(l2_regularization=34, max_iter=140, loss='least_absolute_deviation', max_depth=12)\n",
        "\n",
        "  rgsGB = rgsGB.fit(x_treino, y_treino)\n",
        "\n",
        "  y_resposta_treino = rgsGB.predict(x_treino)\n",
        "  y_resposta_teste = rgsGB.predict(x_teste)\n",
        "\n",
        "  rmspe_in = rmspe(y_treino, y_resposta_treino)\n",
        "  rmspe_out = rmspe(y_teste, y_resposta_teste)\n",
        "  print(f'rmspe_in {rmspe_in}, rmspe_out {rmspe_out}')"
      ],
      "execution_count": null,
      "outputs": [
        {
          "output_type": "stream",
          "text": [
            "rmspe_in 0.02191194781074682, rmspe_out 0.01736005955199135\n"
          ],
          "name": "stdout"
        }
      ]
    },
    {
      "cell_type": "markdown",
      "metadata": {
        "id": "vdQbmdbwqtuP"
      },
      "source": [
        "## Random Forest"
      ]
    },
    {
      "cell_type": "markdown",
      "metadata": {
        "id": "tMo4NPgNrM5k"
      },
      "source": [
        "Para obter um melhor número de estimators, foram variados os valores de 100 até 1500 a fim de observar o valor do rmspe"
      ]
    },
    {
      "cell_type": "code",
      "metadata": {
        "colab": {
          "base_uri": "https://localhost:8080/",
          "height": 527
        },
        "id": "RHl2pMBtqvXh",
        "outputId": "38bc2607-836d-4af1-f1de-469641c125b8"
      },
      "source": [
        "for i in range(100, 1500, 100):\n",
        "  rgsRF = RandomForestRegressor(n_estimators=i,random_state=0,min_samples_leaf=2,n_jobs=10,criterion='mse',verbose=0)\n",
        "\n",
        "  rgsRF = rgsRF.fit(x_treino, y_treino)\n",
        "\n",
        "  y_resposta_treino = rgsRF.predict(x_treino)\n",
        "  y_resposta_teste = rgsRF.predict(x_teste)\n",
        "\n",
        "  rmspe_in = rmspe(y_treino, y_resposta_treino)\n",
        "  rmspe_out = rmspe(y_teste, y_resposta_teste)\n",
        "  print(f'n_estimators {i}, rmspe_in {rmspe_in}, rmspe_out {rmspe_out}')"
      ],
      "execution_count": null,
      "outputs": [
        {
          "output_type": "stream",
          "text": [
            "n_estimators 100, rmspe_in 0.0004986217836076697, rmspe_out 0.0008574369566376522\n",
            "n_estimators 200, rmspe_in 0.0004811986386206591, rmspe_out 0.0008332383566660251\n",
            "n_estimators 300, rmspe_in 0.0004808130812097383, rmspe_out 0.000822922894686526\n",
            "n_estimators 400, rmspe_in 0.0004818888272688115, rmspe_out 0.0008264086810064597\n",
            "n_estimators 500, rmspe_in 0.0004898823262604653, rmspe_out 0.0008252600472609865\n",
            "n_estimators 600, rmspe_in 0.0004844675554111296, rmspe_out 0.0008074903633544216\n",
            "n_estimators 700, rmspe_in 0.00048781973616685747, rmspe_out 0.0008089773091041762\n",
            "n_estimators 800, rmspe_in 0.0004863176911073888, rmspe_out 0.0008161752635314236\n"
          ],
          "name": "stdout"
        },
        {
          "output_type": "error",
          "ename": "KeyboardInterrupt",
          "evalue": "ignored",
          "traceback": [
            "\u001b[0;31m---------------------------------------------------------------------------\u001b[0m",
            "\u001b[0;31mKeyboardInterrupt\u001b[0m                         Traceback (most recent call last)",
            "\u001b[0;32m<ipython-input-18-257efd035ba8>\u001b[0m in \u001b[0;36m<module>\u001b[0;34m()\u001b[0m\n\u001b[1;32m      2\u001b[0m   \u001b[0mrgsRF\u001b[0m \u001b[0;34m=\u001b[0m \u001b[0mRandomForestRegressor\u001b[0m\u001b[0;34m(\u001b[0m\u001b[0mn_estimators\u001b[0m\u001b[0;34m=\u001b[0m\u001b[0mi\u001b[0m\u001b[0;34m,\u001b[0m\u001b[0mrandom_state\u001b[0m\u001b[0;34m=\u001b[0m\u001b[0;36m0\u001b[0m\u001b[0;34m,\u001b[0m\u001b[0mmin_samples_leaf\u001b[0m\u001b[0;34m=\u001b[0m\u001b[0;36m2\u001b[0m\u001b[0;34m,\u001b[0m\u001b[0mn_jobs\u001b[0m\u001b[0;34m=\u001b[0m\u001b[0;36m10\u001b[0m\u001b[0;34m,\u001b[0m\u001b[0mcriterion\u001b[0m\u001b[0;34m=\u001b[0m\u001b[0;34m'mse'\u001b[0m\u001b[0;34m,\u001b[0m\u001b[0mverbose\u001b[0m\u001b[0;34m=\u001b[0m\u001b[0;36m0\u001b[0m\u001b[0;34m)\u001b[0m\u001b[0;34m\u001b[0m\u001b[0;34m\u001b[0m\u001b[0m\n\u001b[1;32m      3\u001b[0m \u001b[0;34m\u001b[0m\u001b[0m\n\u001b[0;32m----> 4\u001b[0;31m   \u001b[0mrgsRF\u001b[0m \u001b[0;34m=\u001b[0m \u001b[0mrgsRF\u001b[0m\u001b[0;34m.\u001b[0m\u001b[0mfit\u001b[0m\u001b[0;34m(\u001b[0m\u001b[0mx_treino\u001b[0m\u001b[0;34m,\u001b[0m \u001b[0my_treino\u001b[0m\u001b[0;34m)\u001b[0m\u001b[0;34m\u001b[0m\u001b[0;34m\u001b[0m\u001b[0m\n\u001b[0m\u001b[1;32m      5\u001b[0m \u001b[0;34m\u001b[0m\u001b[0m\n\u001b[1;32m      6\u001b[0m   \u001b[0my_resposta_treino\u001b[0m \u001b[0;34m=\u001b[0m \u001b[0mrgsRF\u001b[0m\u001b[0;34m.\u001b[0m\u001b[0mpredict\u001b[0m\u001b[0;34m(\u001b[0m\u001b[0mx_treino\u001b[0m\u001b[0;34m)\u001b[0m\u001b[0;34m\u001b[0m\u001b[0;34m\u001b[0m\u001b[0m\n",
            "\u001b[0;32m/usr/local/lib/python3.7/dist-packages/sklearn/ensemble/_forest.py\u001b[0m in \u001b[0;36mfit\u001b[0;34m(self, X, y, sample_weight)\u001b[0m\n\u001b[1;32m    381\u001b[0m                     \u001b[0mverbose\u001b[0m\u001b[0;34m=\u001b[0m\u001b[0mself\u001b[0m\u001b[0;34m.\u001b[0m\u001b[0mverbose\u001b[0m\u001b[0;34m,\u001b[0m \u001b[0mclass_weight\u001b[0m\u001b[0;34m=\u001b[0m\u001b[0mself\u001b[0m\u001b[0;34m.\u001b[0m\u001b[0mclass_weight\u001b[0m\u001b[0;34m,\u001b[0m\u001b[0;34m\u001b[0m\u001b[0;34m\u001b[0m\u001b[0m\n\u001b[1;32m    382\u001b[0m                     n_samples_bootstrap=n_samples_bootstrap)\n\u001b[0;32m--> 383\u001b[0;31m                 for i, t in enumerate(trees))\n\u001b[0m\u001b[1;32m    384\u001b[0m \u001b[0;34m\u001b[0m\u001b[0m\n\u001b[1;32m    385\u001b[0m             \u001b[0;31m# Collect newly grown trees\u001b[0m\u001b[0;34m\u001b[0m\u001b[0;34m\u001b[0m\u001b[0;34m\u001b[0m\u001b[0m\n",
            "\u001b[0;32m/usr/local/lib/python3.7/dist-packages/joblib/parallel.py\u001b[0m in \u001b[0;36m__call__\u001b[0;34m(self, iterable)\u001b[0m\n\u001b[1;32m   1052\u001b[0m \u001b[0;34m\u001b[0m\u001b[0m\n\u001b[1;32m   1053\u001b[0m             \u001b[0;32mwith\u001b[0m \u001b[0mself\u001b[0m\u001b[0;34m.\u001b[0m\u001b[0m_backend\u001b[0m\u001b[0;34m.\u001b[0m\u001b[0mretrieval_context\u001b[0m\u001b[0;34m(\u001b[0m\u001b[0;34m)\u001b[0m\u001b[0;34m:\u001b[0m\u001b[0;34m\u001b[0m\u001b[0;34m\u001b[0m\u001b[0m\n\u001b[0;32m-> 1054\u001b[0;31m                 \u001b[0mself\u001b[0m\u001b[0;34m.\u001b[0m\u001b[0mretrieve\u001b[0m\u001b[0;34m(\u001b[0m\u001b[0;34m)\u001b[0m\u001b[0;34m\u001b[0m\u001b[0;34m\u001b[0m\u001b[0m\n\u001b[0m\u001b[1;32m   1055\u001b[0m             \u001b[0;31m# Make sure that we get a last message telling us we are done\u001b[0m\u001b[0;34m\u001b[0m\u001b[0;34m\u001b[0m\u001b[0;34m\u001b[0m\u001b[0m\n\u001b[1;32m   1056\u001b[0m             \u001b[0melapsed_time\u001b[0m \u001b[0;34m=\u001b[0m \u001b[0mtime\u001b[0m\u001b[0;34m.\u001b[0m\u001b[0mtime\u001b[0m\u001b[0;34m(\u001b[0m\u001b[0;34m)\u001b[0m \u001b[0;34m-\u001b[0m \u001b[0mself\u001b[0m\u001b[0;34m.\u001b[0m\u001b[0m_start_time\u001b[0m\u001b[0;34m\u001b[0m\u001b[0;34m\u001b[0m\u001b[0m\n",
            "\u001b[0;32m/usr/local/lib/python3.7/dist-packages/joblib/parallel.py\u001b[0m in \u001b[0;36mretrieve\u001b[0;34m(self)\u001b[0m\n\u001b[1;32m    931\u001b[0m             \u001b[0;32mtry\u001b[0m\u001b[0;34m:\u001b[0m\u001b[0;34m\u001b[0m\u001b[0;34m\u001b[0m\u001b[0m\n\u001b[1;32m    932\u001b[0m                 \u001b[0;32mif\u001b[0m \u001b[0mgetattr\u001b[0m\u001b[0;34m(\u001b[0m\u001b[0mself\u001b[0m\u001b[0;34m.\u001b[0m\u001b[0m_backend\u001b[0m\u001b[0;34m,\u001b[0m \u001b[0;34m'supports_timeout'\u001b[0m\u001b[0;34m,\u001b[0m \u001b[0;32mFalse\u001b[0m\u001b[0;34m)\u001b[0m\u001b[0;34m:\u001b[0m\u001b[0;34m\u001b[0m\u001b[0;34m\u001b[0m\u001b[0m\n\u001b[0;32m--> 933\u001b[0;31m                     \u001b[0mself\u001b[0m\u001b[0;34m.\u001b[0m\u001b[0m_output\u001b[0m\u001b[0;34m.\u001b[0m\u001b[0mextend\u001b[0m\u001b[0;34m(\u001b[0m\u001b[0mjob\u001b[0m\u001b[0;34m.\u001b[0m\u001b[0mget\u001b[0m\u001b[0;34m(\u001b[0m\u001b[0mtimeout\u001b[0m\u001b[0;34m=\u001b[0m\u001b[0mself\u001b[0m\u001b[0;34m.\u001b[0m\u001b[0mtimeout\u001b[0m\u001b[0;34m)\u001b[0m\u001b[0;34m)\u001b[0m\u001b[0;34m\u001b[0m\u001b[0;34m\u001b[0m\u001b[0m\n\u001b[0m\u001b[1;32m    934\u001b[0m                 \u001b[0;32melse\u001b[0m\u001b[0;34m:\u001b[0m\u001b[0;34m\u001b[0m\u001b[0;34m\u001b[0m\u001b[0m\n\u001b[1;32m    935\u001b[0m                     \u001b[0mself\u001b[0m\u001b[0;34m.\u001b[0m\u001b[0m_output\u001b[0m\u001b[0;34m.\u001b[0m\u001b[0mextend\u001b[0m\u001b[0;34m(\u001b[0m\u001b[0mjob\u001b[0m\u001b[0;34m.\u001b[0m\u001b[0mget\u001b[0m\u001b[0;34m(\u001b[0m\u001b[0;34m)\u001b[0m\u001b[0;34m)\u001b[0m\u001b[0;34m\u001b[0m\u001b[0;34m\u001b[0m\u001b[0m\n",
            "\u001b[0;32m/usr/lib/python3.7/multiprocessing/pool.py\u001b[0m in \u001b[0;36mget\u001b[0;34m(self, timeout)\u001b[0m\n\u001b[1;32m    649\u001b[0m \u001b[0;34m\u001b[0m\u001b[0m\n\u001b[1;32m    650\u001b[0m     \u001b[0;32mdef\u001b[0m \u001b[0mget\u001b[0m\u001b[0;34m(\u001b[0m\u001b[0mself\u001b[0m\u001b[0;34m,\u001b[0m \u001b[0mtimeout\u001b[0m\u001b[0;34m=\u001b[0m\u001b[0;32mNone\u001b[0m\u001b[0;34m)\u001b[0m\u001b[0;34m:\u001b[0m\u001b[0;34m\u001b[0m\u001b[0;34m\u001b[0m\u001b[0m\n\u001b[0;32m--> 651\u001b[0;31m         \u001b[0mself\u001b[0m\u001b[0;34m.\u001b[0m\u001b[0mwait\u001b[0m\u001b[0;34m(\u001b[0m\u001b[0mtimeout\u001b[0m\u001b[0;34m)\u001b[0m\u001b[0;34m\u001b[0m\u001b[0;34m\u001b[0m\u001b[0m\n\u001b[0m\u001b[1;32m    652\u001b[0m         \u001b[0;32mif\u001b[0m \u001b[0;32mnot\u001b[0m \u001b[0mself\u001b[0m\u001b[0;34m.\u001b[0m\u001b[0mready\u001b[0m\u001b[0;34m(\u001b[0m\u001b[0;34m)\u001b[0m\u001b[0;34m:\u001b[0m\u001b[0;34m\u001b[0m\u001b[0;34m\u001b[0m\u001b[0m\n\u001b[1;32m    653\u001b[0m             \u001b[0;32mraise\u001b[0m \u001b[0mTimeoutError\u001b[0m\u001b[0;34m\u001b[0m\u001b[0;34m\u001b[0m\u001b[0m\n",
            "\u001b[0;32m/usr/lib/python3.7/multiprocessing/pool.py\u001b[0m in \u001b[0;36mwait\u001b[0;34m(self, timeout)\u001b[0m\n\u001b[1;32m    646\u001b[0m \u001b[0;34m\u001b[0m\u001b[0m\n\u001b[1;32m    647\u001b[0m     \u001b[0;32mdef\u001b[0m \u001b[0mwait\u001b[0m\u001b[0;34m(\u001b[0m\u001b[0mself\u001b[0m\u001b[0;34m,\u001b[0m \u001b[0mtimeout\u001b[0m\u001b[0;34m=\u001b[0m\u001b[0;32mNone\u001b[0m\u001b[0;34m)\u001b[0m\u001b[0;34m:\u001b[0m\u001b[0;34m\u001b[0m\u001b[0;34m\u001b[0m\u001b[0m\n\u001b[0;32m--> 648\u001b[0;31m         \u001b[0mself\u001b[0m\u001b[0;34m.\u001b[0m\u001b[0m_event\u001b[0m\u001b[0;34m.\u001b[0m\u001b[0mwait\u001b[0m\u001b[0;34m(\u001b[0m\u001b[0mtimeout\u001b[0m\u001b[0;34m)\u001b[0m\u001b[0;34m\u001b[0m\u001b[0;34m\u001b[0m\u001b[0m\n\u001b[0m\u001b[1;32m    649\u001b[0m \u001b[0;34m\u001b[0m\u001b[0m\n\u001b[1;32m    650\u001b[0m     \u001b[0;32mdef\u001b[0m \u001b[0mget\u001b[0m\u001b[0;34m(\u001b[0m\u001b[0mself\u001b[0m\u001b[0;34m,\u001b[0m \u001b[0mtimeout\u001b[0m\u001b[0;34m=\u001b[0m\u001b[0;32mNone\u001b[0m\u001b[0;34m)\u001b[0m\u001b[0;34m:\u001b[0m\u001b[0;34m\u001b[0m\u001b[0;34m\u001b[0m\u001b[0m\n",
            "\u001b[0;32m/usr/lib/python3.7/threading.py\u001b[0m in \u001b[0;36mwait\u001b[0;34m(self, timeout)\u001b[0m\n\u001b[1;32m    550\u001b[0m             \u001b[0msignaled\u001b[0m \u001b[0;34m=\u001b[0m \u001b[0mself\u001b[0m\u001b[0;34m.\u001b[0m\u001b[0m_flag\u001b[0m\u001b[0;34m\u001b[0m\u001b[0;34m\u001b[0m\u001b[0m\n\u001b[1;32m    551\u001b[0m             \u001b[0;32mif\u001b[0m \u001b[0;32mnot\u001b[0m \u001b[0msignaled\u001b[0m\u001b[0;34m:\u001b[0m\u001b[0;34m\u001b[0m\u001b[0;34m\u001b[0m\u001b[0m\n\u001b[0;32m--> 552\u001b[0;31m                 \u001b[0msignaled\u001b[0m \u001b[0;34m=\u001b[0m \u001b[0mself\u001b[0m\u001b[0;34m.\u001b[0m\u001b[0m_cond\u001b[0m\u001b[0;34m.\u001b[0m\u001b[0mwait\u001b[0m\u001b[0;34m(\u001b[0m\u001b[0mtimeout\u001b[0m\u001b[0;34m)\u001b[0m\u001b[0;34m\u001b[0m\u001b[0;34m\u001b[0m\u001b[0m\n\u001b[0m\u001b[1;32m    553\u001b[0m             \u001b[0;32mreturn\u001b[0m \u001b[0msignaled\u001b[0m\u001b[0;34m\u001b[0m\u001b[0;34m\u001b[0m\u001b[0m\n\u001b[1;32m    554\u001b[0m \u001b[0;34m\u001b[0m\u001b[0m\n",
            "\u001b[0;32m/usr/lib/python3.7/threading.py\u001b[0m in \u001b[0;36mwait\u001b[0;34m(self, timeout)\u001b[0m\n\u001b[1;32m    294\u001b[0m         \u001b[0;32mtry\u001b[0m\u001b[0;34m:\u001b[0m    \u001b[0;31m# restore state no matter what (e.g., KeyboardInterrupt)\u001b[0m\u001b[0;34m\u001b[0m\u001b[0;34m\u001b[0m\u001b[0m\n\u001b[1;32m    295\u001b[0m             \u001b[0;32mif\u001b[0m \u001b[0mtimeout\u001b[0m \u001b[0;32mis\u001b[0m \u001b[0;32mNone\u001b[0m\u001b[0;34m:\u001b[0m\u001b[0;34m\u001b[0m\u001b[0;34m\u001b[0m\u001b[0m\n\u001b[0;32m--> 296\u001b[0;31m                 \u001b[0mwaiter\u001b[0m\u001b[0;34m.\u001b[0m\u001b[0macquire\u001b[0m\u001b[0;34m(\u001b[0m\u001b[0;34m)\u001b[0m\u001b[0;34m\u001b[0m\u001b[0;34m\u001b[0m\u001b[0m\n\u001b[0m\u001b[1;32m    297\u001b[0m                 \u001b[0mgotit\u001b[0m \u001b[0;34m=\u001b[0m \u001b[0;32mTrue\u001b[0m\u001b[0;34m\u001b[0m\u001b[0;34m\u001b[0m\u001b[0m\n\u001b[1;32m    298\u001b[0m             \u001b[0;32melse\u001b[0m\u001b[0;34m:\u001b[0m\u001b[0;34m\u001b[0m\u001b[0;34m\u001b[0m\u001b[0m\n",
            "\u001b[0;31mKeyboardInterrupt\u001b[0m: "
          ]
        }
      ]
    },
    {
      "cell_type": "markdown",
      "metadata": {
        "id": "dVg5VQxlsRj2"
      },
      "source": [
        "Com base no resultado anterior, o melhor número de estimators foi de 1400"
      ]
    },
    {
      "cell_type": "code",
      "metadata": {
        "colab": {
          "base_uri": "https://localhost:8080/"
        },
        "id": "bGbf70zVsQvO",
        "outputId": "a5eb4f08-d0c0-4959-9600-0ec467cef79c"
      },
      "source": [
        "for i in range(2, 12, 2):\n",
        "  rgsRF = RandomForestRegressor(n_estimators=1400,random_state=0,min_samples_leaf=i,n_jobs=10,criterion='mse',verbose=0)\n",
        "\n",
        "  rgsRF = rgsRF.fit(x_treino, y_treino)\n",
        "\n",
        "  y_resposta_treino = rgsRF.predict(x_treino)\n",
        "  y_resposta_teste = rgsRF.predict(x_teste)\n",
        "\n",
        "  rmspe_in = rmspe(y_treino, y_resposta_treino)\n",
        "  rmspe_out = rmspe(y_teste, y_resposta_teste)\n",
        "  print(f'min_samples_leaf {i}, rmspe_in {rmspe_in}, rmspe_out {rmspe_out}')"
      ],
      "execution_count": null,
      "outputs": [
        {
          "output_type": "stream",
          "text": [
            "min_samples_leaf 2, rmspe_in 7.553756032949039, rmspe_out 7.845478753608698\n",
            "min_samples_leaf 4, rmspe_in 6.540657604192398, rmspe_out 9.802996682041211\n",
            "min_samples_leaf 6, rmspe_in 6.175483646121599, rmspe_out 8.494258435921926\n",
            "min_samples_leaf 8, rmspe_in 5.801130983145787, rmspe_out 6.403402324786742\n",
            "min_samples_leaf 10, rmspe_in 5.433428083803387, rmspe_out 4.7229844977347595\n"
          ],
          "name": "stdout"
        }
      ]
    },
    {
      "cell_type": "markdown",
      "metadata": {
        "id": "tu7jy001t87n"
      },
      "source": [
        "Com base no menor valor obtido de min_samples_leaf, foi continuada a busca pela variação dos outros hiperparâmetros a fim de melhorar os resultados"
      ]
    },
    {
      "cell_type": "code",
      "metadata": {
        "colab": {
          "base_uri": "https://localhost:8080/"
        },
        "id": "-N_WMZXYt7KU",
        "outputId": "1971bc2c-c6ab-463b-a57e-1f2c15e175ac"
      },
      "source": [
        "for i in range(2, 6, 2):\n",
        "  rgsRF = RandomForestRegressor(n_estimators=1400,random_state=0,min_samples_leaf=2,n_jobs=i,criterion='mse',verbose=0)\n",
        "\n",
        "  rgsRF = rgsRF.fit(x_treino, y_treino)\n",
        "\n",
        "  y_resposta_treino = rgsRF.predict(x_treino)\n",
        "  y_resposta_teste = rgsRF.predict(x_teste)\n",
        "\n",
        "  rmspe_in = rmspe(y_treino, y_resposta_treino)\n",
        "  rmspe_out = rmspe(y_teste, y_resposta_teste)\n",
        "  print(f'n_jobs {i}, rmspe_in {rmspe_in}, rmspe_out {rmspe_out}')"
      ],
      "execution_count": null,
      "outputs": [
        {
          "output_type": "stream",
          "text": [
            "n_jobs 2, rmspe_in 7.553756032949039, rmspe_out 7.845478753608698\n",
            "n_jobs 4, rmspe_in 7.55375603294904, rmspe_out 7.845478753608697\n"
          ],
          "name": "stdout"
        }
      ]
    },
    {
      "cell_type": "markdown",
      "metadata": {
        "id": "NQFbcwqcuQpH"
      },
      "source": [
        "Após a execução foi observado que o n_jobs não alterava no resultado obtido, portanto, ao final da mudança dos hiperparâmetros o resultado obtido foi o seguinte"
      ]
    },
    {
      "cell_type": "code",
      "metadata": {
        "colab": {
          "base_uri": "https://localhost:8080/"
        },
        "id": "WnEHGSCguYY3",
        "outputId": "45d21e22-6730-4a99-dfa9-43c504f91e65"
      },
      "source": [
        "rgsRF = RandomForestRegressor(n_estimators=1400,random_state=0,min_samples_leaf=2,n_jobs=2,criterion='mse',verbose=0)\n",
        "\n",
        "rgsRF = rgsRF.fit(x_treino, y_treino)\n",
        "\n",
        "y_resposta_treino = rgsRF.predict(x_treino)\n",
        "y_resposta_teste = rgsRF.predict(x_teste)\n",
        "\n",
        "rmspe_in = rmspe(y_treino, y_resposta_treino)\n",
        "rmspe_out = rmspe(y_teste, y_resposta_teste)\n",
        "print(f'rmspe_in {rmspe_in}, rmspe_out {rmspe_out}')"
      ],
      "execution_count": null,
      "outputs": [
        {
          "output_type": "stream",
          "text": [
            "rmspe_in 7.553756032949039, rmspe_out 7.845478753608698\n"
          ],
          "name": "stdout"
        }
      ]
    },
    {
      "cell_type": "markdown",
      "metadata": {
        "id": "EWF-MVJrurKd"
      },
      "source": [
        "## Regressor Polinomial"
      ]
    },
    {
      "cell_type": "markdown",
      "metadata": {
        "id": "RynIN_i-uxYq"
      },
      "source": [
        "Para este método, foram variados os graus do regressor polinomial a fim de observar o resultado do rmspe"
      ]
    },
    {
      "cell_type": "code",
      "metadata": {
        "colab": {
          "base_uri": "https://localhost:8080/"
        },
        "id": "Wg6tZD5Nus7u",
        "outputId": "224373d2-81b6-4c8d-9d7d-783dfae35e5e"
      },
      "source": [
        "for k in range(1,4):\n",
        "    pf = PolynomialFeatures(degree=k)    \n",
        "    pf = pf.fit(x_treino)\n",
        "    x_treino_poly = pf.transform(x_treino)\n",
        "    x_teste_poly = pf.transform(x_teste)\n",
        "    \n",
        "    rgsL = LinearRegression()\n",
        "    rgsL = rgsL.fit(x_treino_poly,y_treino)\n",
        "\n",
        "    y_resposta_treino = rgsL.predict(x_treino_poly)\n",
        "    y_resposta_teste = rgsL.predict(x_teste_poly)\n",
        "    \n",
        "    rmspe_in = rmspe(y_treino, y_resposta_treino)\n",
        "    rmspe_out = rmspe(y_teste, y_resposta_teste)\n",
        "    \n",
        "    n_atributos = x_treino_poly.shape[1]    \n",
        "\n",
        "    print(f'K {k} rmspe_in {rmspe_in}, rmspe_out {rmspe_out}')"
      ],
      "execution_count": null,
      "outputs": [
        {
          "output_type": "stream",
          "text": [
            "K 1 rmspe_in 10.569558874443272, rmspe_out 1.0819791482095051\n",
            "K 2 rmspe_in 3.098481889918608, rmspe_out 2.7913308237213244\n",
            "K 3 rmspe_in 17.460304128192746, rmspe_out 19.057502312172907\n"
          ],
          "name": "stdout"
        }
      ]
    },
    {
      "cell_type": "markdown",
      "metadata": {
        "id": "lYKBzTevvib9"
      },
      "source": [
        "## KNN"
      ]
    },
    {
      "cell_type": "code",
      "metadata": {
        "colab": {
          "base_uri": "https://localhost:8080/"
        },
        "id": "HnUbU1ujvZsc",
        "outputId": "423e6f21-4f09-4c95-fde6-449d32a29658"
      },
      "source": [
        "for k in range(2,42,2):\n",
        "    rgsKNN = KNeighborsRegressor(n_neighbors=k, p=1, n_jobs=2, algorithm='kd_tree', weights='distance')\n",
        "    \n",
        "    rgsKNN = rgsKNN.fit(x_treino, y_treino)\n",
        "\n",
        "    y_resposta_treino = rgsKNN.predict(x_treino)\n",
        "    y_resposta_teste = rgsKNN.predict(x_teste)\n",
        "        \n",
        "    rmspe_in = rmspe(y_treino, y_resposta_treino)\n",
        "    rmspe_out = rmspe(y_teste, y_resposta_teste)\n",
        "\n",
        "    print(f'K {k}, rmspe_in {rmspe_in}, rmspe_out {rmspe_out}')"
      ],
      "execution_count": null,
      "outputs": [
        {
          "output_type": "stream",
          "text": [
            "K 2, rmspe_in 0.06296370261421147, rmspe_out 23.70717275729037\n",
            "K 4, rmspe_in 0.059405306036603135, rmspe_out 13.358207223226241\n",
            "K 6, rmspe_in 0.05923094960357025, rmspe_out 10.049076032722988\n",
            "K 8, rmspe_in 0.05922805221558205, rmspe_out 8.067694681480823\n",
            "K 10, rmspe_in 0.05922805221558205, rmspe_out 6.758685167684494\n",
            "K 12, rmspe_in 0.05922805221558205, rmspe_out 5.845974576848896\n",
            "K 14, rmspe_in 0.05922805221558205, rmspe_out 5.198878523805399\n",
            "K 16, rmspe_in 0.05922805221558205, rmspe_out 4.683618336300183\n",
            "K 18, rmspe_in 0.05922805221558205, rmspe_out 4.270240665052728\n",
            "K 20, rmspe_in 0.05922805221558205, rmspe_out 3.9404638254975595\n",
            "K 22, rmspe_in 0.05922805221558205, rmspe_out 3.6592280613467842\n",
            "K 24, rmspe_in 0.05922805221558205, rmspe_out 3.41855501737781\n",
            "K 26, rmspe_in 0.05922805221558205, rmspe_out 3.2144072797314025\n",
            "K 28, rmspe_in 0.05922805221558205, rmspe_out 3.0295076562970915\n",
            "K 30, rmspe_in 0.05922805221558205, rmspe_out 2.8748262678051875\n",
            "K 32, rmspe_in 0.05922805221558205, rmspe_out 2.729578230829296\n",
            "K 34, rmspe_in 0.05922805221558205, rmspe_out 2.606708055638522\n",
            "K 36, rmspe_in 0.05922805221558205, rmspe_out 2.4931730809785067\n",
            "K 38, rmspe_in 0.05922805221558205, rmspe_out 2.475751334845794\n",
            "K 40, rmspe_in 0.05922805221558205, rmspe_out 2.3785634771612547\n"
          ],
          "name": "stdout"
        }
      ]
    },
    {
      "cell_type": "markdown",
      "metadata": {
        "id": "mWlQDj0Bv3pP"
      },
      "source": [
        "O melhor valor obtido com a variação de K para o KNN foi de k=10, portanto foi prosseguida com a mudança dos hiperparâmetros"
      ]
    },
    {
      "cell_type": "code",
      "metadata": {
        "colab": {
          "base_uri": "https://localhost:8080/"
        },
        "id": "gQPjHaB3wDOb",
        "outputId": "cbeb3b6f-4e62-4aa1-946e-2b773c7cd403"
      },
      "source": [
        "for p in range(1,11):\n",
        "    rgsKNN = KNeighborsRegressor(n_neighbors=10, p=p, n_jobs=2, algorithm='kd_tree', weights='distance')\n",
        "    \n",
        "    rgsKNN = rgsKNN.fit(x_treino,y_treino)\n",
        "\n",
        "    y_resposta_treino = rgsKNN.predict(x_treino)\n",
        "    y_resposta_teste = rgsKNN.predict(x_teste)\n",
        "        \n",
        "    rmspe_in = rmspe(y_treino, y_resposta_treino)\n",
        "    rmspe_out = rmspe(y_teste, y_resposta_teste)\n",
        "\n",
        "    print(f'P {p}, rmspe_in {rmspe_in}, rmspe_out {rmspe_out}')"
      ],
      "execution_count": null,
      "outputs": [
        {
          "output_type": "stream",
          "text": [
            "P 1, rmspe_in 0.05922805221558205, rmspe_out 6.758685167684494\n",
            "P 2, rmspe_in 0.05922805221558205, rmspe_out 5.248769557647506\n",
            "P 3, rmspe_in 0.05922805221558205, rmspe_out 4.864365301858856\n",
            "P 4, rmspe_in 0.05922805221558205, rmspe_out 4.672049754536907\n",
            "P 5, rmspe_in 0.05922805221558205, rmspe_out 4.548993639687858\n",
            "P 6, rmspe_in 0.05922805221558205, rmspe_out 4.477930710833311\n",
            "P 7, rmspe_in 0.05922805221558205, rmspe_out 4.428493759876277\n",
            "P 8, rmspe_in 0.05922805221558205, rmspe_out 4.391962877363551\n",
            "P 9, rmspe_in 0.05922805221558205, rmspe_out 4.383888392863805\n",
            "P 10, rmspe_in 0.05922805221558205, rmspe_out 4.362293095293669\n"
          ],
          "name": "stdout"
        }
      ]
    },
    {
      "cell_type": "markdown",
      "metadata": {
        "id": "KiFJgadlwRU6"
      },
      "source": [
        "Após isso, o melhor resultado obtido para o KNN foi"
      ]
    },
    {
      "cell_type": "code",
      "metadata": {
        "colab": {
          "base_uri": "https://localhost:8080/"
        },
        "id": "zl_SSxOAwTqa",
        "outputId": "0c526a6d-03aa-4b9a-b13c-b53b0ed297f0"
      },
      "source": [
        "rgsKNN = KNeighborsRegressor(n_neighbors=10, p=1, n_jobs=2, algorithm='kd_tree', weights='distance')\n",
        "\n",
        "rgsKNN = rgsKNN.fit(x_treino,y_treino)\n",
        "\n",
        "y_resposta_treino = rgsKNN.predict(x_treino)\n",
        "y_resposta_teste = rgsKNN.predict(x_teste)\n",
        "    \n",
        "rmspe_in = rmspe(y_treino, y_resposta_treino)\n",
        "rmspe_out = rmspe(y_teste, y_resposta_teste)\n",
        "\n",
        "print(f'rmspe_in {rmspe_in}, rmspe_out {rmspe_out}')"
      ],
      "execution_count": null,
      "outputs": [
        {
          "output_type": "stream",
          "text": [
            "rmspe_in 0.05922805221558205, rmspe_out 6.758685167684494\n"
          ],
          "name": "stdout"
        }
      ]
    },
    {
      "cell_type": "markdown",
      "metadata": {
        "id": "dAPC870SwXnv"
      },
      "source": [
        "Tendo feito os testes com alguns dos modelos acima, o melhor resultado obtido foi utilizando o Gradient Boosting, que foi o modelo utilizado para gerar o resultado submetido ao Kaggle."
      ]
    },
    {
      "cell_type": "markdown",
      "metadata": {
        "id": "UzlYCI3owhqN"
      },
      "source": [
        "# Resultado Final"
      ]
    },
    {
      "cell_type": "markdown",
      "metadata": {
        "id": "s3geiKsAE3hl"
      },
      "source": [
        "Após testados alguns modelos, dentre os escolhidos, o melhor foi o Gradient Boosting, deste modo, este foi utilizado para utilizar a resposta a ser enviada ao Kaggle.\n",
        "\n",
        "Foi interessante observar também que o resultado obtido no código do google colab foi um pouco diferente do obtido no kaggle, porém ainda assim foram os melhores hiper parâmetros escolhidos."
      ]
    },
    {
      "cell_type": "code",
      "metadata": {
        "id": "hgiTbCC5wj2Z"
      },
      "source": [
        "y_resposta_TESTE = rgsGB.predict(x_TESTE)\n",
        "d = {'Id': y_TESTE_Id.index , 'preco': y_resposta_TESTE}\n",
        "df = pd.DataFrame(data=d)\n",
        "\n",
        "df.to_csv('out.csv', index=False)\n",
        "dados_output = pd.read_csv(\"out.csv\")"
      ],
      "execution_count": null,
      "outputs": []
    }
  ]
}